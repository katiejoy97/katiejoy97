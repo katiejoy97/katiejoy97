{
  "nbformat": 4,
  "nbformat_minor": 0,
  "metadata": {
    "colab": {
      "provenance": [],
      "gpuType": "T4",
      "authorship_tag": "ABX9TyPiXkSsFiG10Mq3hRN87qka",
      "include_colab_link": true
    },
    "kernelspec": {
      "name": "python3",
      "display_name": "Python 3"
    },
    "language_info": {
      "name": "python"
    },
    "accelerator": "GPU"
  },
  "cells": [
    {
      "cell_type": "markdown",
      "metadata": {
        "id": "view-in-github",
        "colab_type": "text"
      },
      "source": [
        "<a href=\"https://colab.research.google.com/github/katiejoy97/katiejoy97/blob/main/00_pytorch_execises.ipynb\" target=\"_parent\"><img src=\"https://colab.research.google.com/assets/colab-badge.svg\" alt=\"Open In Colab\"/></a>"
      ]
    },
    {
      "cell_type": "code",
      "execution_count": 1,
      "metadata": {
        "id": "SOB_6Y0RvK1T"
      },
      "outputs": [],
      "source": [
        "import torch\n"
      ]
    },
    {
      "cell_type": "code",
      "source": [
        "# Create a random tensor with shape (7,7).\n",
        "torch.rand(7,7)"
      ],
      "metadata": {
        "colab": {
          "base_uri": "https://localhost:8080/"
        },
        "id": "JANXVnwRvPwa",
        "outputId": "61514fa3-8ae6-4f06-d82b-cd828c2995fd"
      },
      "execution_count": 2,
      "outputs": [
        {
          "output_type": "execute_result",
          "data": {
            "text/plain": [
              "tensor([[0.0626, 0.4807, 0.3539, 0.6097, 0.4180, 0.0190, 0.4271],\n",
              "        [0.4404, 0.5409, 0.4713, 0.8268, 0.8170, 0.0321, 0.1471],\n",
              "        [0.4548, 0.9482, 0.7964, 0.2972, 0.7762, 0.0086, 0.4018],\n",
              "        [0.7440, 0.0566, 0.4563, 0.3476, 0.9723, 0.7385, 0.8748],\n",
              "        [0.0387, 0.1868, 0.4264, 0.8562, 0.6757, 0.3155, 0.2762],\n",
              "        [0.8304, 0.6742, 0.4394, 0.1247, 0.7711, 0.6621, 0.3699],\n",
              "        [0.9955, 0.1635, 0.3098, 0.1765, 0.9916, 0.8683, 0.7195]])"
            ]
          },
          "metadata": {},
          "execution_count": 2
        }
      ]
    },
    {
      "cell_type": "code",
      "source": [
        "#Create random tensor\n",
        "X = torch.rand(size=(7,7))\n",
        "X, X.shape"
      ],
      "metadata": {
        "colab": {
          "base_uri": "https://localhost:8080/"
        },
        "id": "iUmz7zSzv5Za",
        "outputId": "7705f6ba-4143-4172-956f-4dbfca978799"
      },
      "execution_count": 3,
      "outputs": [
        {
          "output_type": "execute_result",
          "data": {
            "text/plain": [
              "(tensor([[0.2041, 0.9149, 0.1802, 0.3784, 0.6948, 0.8822, 0.0927],\n",
              "         [0.0709, 0.0353, 0.7064, 0.8118, 0.8580, 0.5888, 0.0995],\n",
              "         [0.7428, 0.1887, 0.0444, 0.9984, 0.1059, 0.6996, 0.6334],\n",
              "         [0.8580, 0.1170, 0.7937, 0.0944, 0.6097, 0.2429, 0.1533],\n",
              "         [0.3783, 0.2789, 0.8047, 0.9094, 0.9556, 0.7396, 0.3073],\n",
              "         [0.6138, 0.5413, 0.6660, 0.0055, 0.3472, 0.5623, 0.2304],\n",
              "         [0.7631, 0.7488, 0.5056, 0.0044, 0.0510, 0.4188, 0.0150]]),\n",
              " torch.Size([7, 7]))"
            ]
          },
          "metadata": {},
          "execution_count": 3
        }
      ]
    },
    {
      "cell_type": "code",
      "source": [
        "#Create another random tensor\n",
        "Y = torch.rand(size=(1,7))\n",
        "#Z = torch.matmul(X, Y) # will error because of shape issues\n",
        "Z = torch.matmul(X, Y.T) # no error because of transpose\n",
        "Z, Z.shape"
      ],
      "metadata": {
        "colab": {
          "base_uri": "https://localhost:8080/"
        },
        "id": "ZhvykoLUwK1y",
        "outputId": "bc175edd-be19-4f13-e244-b849633219d8"
      },
      "execution_count": 4,
      "outputs": [
        {
          "output_type": "execute_result",
          "data": {
            "text/plain": [
              "(tensor([[1.6848],\n",
              "         [1.0027],\n",
              "         [1.2895],\n",
              "         [0.9012],\n",
              "         [1.5889],\n",
              "         [1.3545],\n",
              "         [1.1337]]),\n",
              " torch.Size([7, 1]))"
            ]
          },
          "metadata": {},
          "execution_count": 4
        }
      ]
    },
    {
      "cell_type": "code",
      "source": [
        "#Set manual seed\n",
        "torch.manual_seed(0)\n",
        "\n",
        "#Create two random tensors\n",
        "X= torch.rand(size=(7,7))\n",
        "Y= torch.rand(size=(1,7))\n",
        "\n",
        "#Matrix multiply tensors\n",
        "Z= torch.matmul(X, Y.T)\n",
        "Z, Z.shape"
      ],
      "metadata": {
        "colab": {
          "base_uri": "https://localhost:8080/"
        },
        "id": "_oAbUzJ8wRpk",
        "outputId": "8c59e581-e631-4004-a017-27c53882ed4e"
      },
      "execution_count": 5,
      "outputs": [
        {
          "output_type": "execute_result",
          "data": {
            "text/plain": [
              "(tensor([[1.8542],\n",
              "         [1.9611],\n",
              "         [2.2884],\n",
              "         [3.0481],\n",
              "         [1.7067],\n",
              "         [2.5290],\n",
              "         [1.7989]]),\n",
              " torch.Size([7, 1]))"
            ]
          },
          "metadata": {},
          "execution_count": 5
        }
      ]
    },
    {
      "cell_type": "code",
      "source": [
        "#Set random seed on the GPU\n",
        "torch.cuda.manual_seed(1234)"
      ],
      "metadata": {
        "id": "fZwQ4rXLwqwk"
      },
      "execution_count": 6,
      "outputs": []
    },
    {
      "cell_type": "code",
      "source": [
        "#Set rabdom seed\n",
        "torch.manual_seed(1234)\n",
        "\n",
        "#Check for access to GPU\n",
        "device = \"cuda\" if torch.cuda.is_available() else \"cpu\"\n",
        "print(f\"Device: {device}\")\n",
        "\n",
        "#Create two random tensors on GPU\n",
        "tensor_A = torch.rand(size=(2,3)).to(device)\n",
        "tensor_B = torch.rand(size=(2,3)).to(device)\n",
        "tensor_A, tensor_B"
      ],
      "metadata": {
        "colab": {
          "base_uri": "https://localhost:8080/"
        },
        "id": "8iZtFLWpxH9E",
        "outputId": "e6e19bca-5fec-40a3-8643-5c755250e223"
      },
      "execution_count": 7,
      "outputs": [
        {
          "output_type": "stream",
          "name": "stdout",
          "text": [
            "Device: cuda\n"
          ]
        },
        {
          "output_type": "execute_result",
          "data": {
            "text/plain": [
              "(tensor([[0.0290, 0.4019, 0.2598],\n",
              "         [0.3666, 0.0583, 0.7006]], device='cuda:0'),\n",
              " tensor([[0.0518, 0.4681, 0.6738],\n",
              "         [0.3315, 0.7837, 0.5631]], device='cuda:0'))"
            ]
          },
          "metadata": {},
          "execution_count": 7
        }
      ]
    },
    {
      "cell_type": "code",
      "source": [
        "#Perform matmul on tensor_A and tensor_B\n",
        "#tensor_C = torch.matmul(tensor_A, tesnor_B) # won't work because of shape error\n",
        "tensor_C=torch.matmul(tensor_A, tensor_B.T)\n",
        "tensor_C, tensor_C.shape"
      ],
      "metadata": {
        "colab": {
          "base_uri": "https://localhost:8080/"
        },
        "id": "aO1PrPXSxqsg",
        "outputId": "1cb29685-24d0-45fd-ca49-43ed881c4767"
      },
      "execution_count": 8,
      "outputs": [
        {
          "output_type": "execute_result",
          "data": {
            "text/plain": [
              "(tensor([[0.3647, 0.4709],\n",
              "         [0.5184, 0.5617]], device='cuda:0'),\n",
              " torch.Size([2, 2]))"
            ]
          },
          "metadata": {},
          "execution_count": 8
        }
      ]
    },
    {
      "cell_type": "code",
      "source": [
        "#Find max\n",
        "max=torch.max(tensor_C)\n",
        "\n",
        "#Find min\n",
        "min = torch.min(tensor_C)\n",
        "max,min"
      ],
      "metadata": {
        "colab": {
          "base_uri": "https://localhost:8080/"
        },
        "id": "gZGPABTFx63E",
        "outputId": "54a3e31f-1ab9-453b-cb17-e23bcdf7ef05"
      },
      "execution_count": 9,
      "outputs": [
        {
          "output_type": "execute_result",
          "data": {
            "text/plain": [
              "(tensor(0.5617, device='cuda:0'), tensor(0.3647, device='cuda:0'))"
            ]
          },
          "metadata": {},
          "execution_count": 9
        }
      ]
    },
    {
      "cell_type": "code",
      "source": [
        "#Find arg max\n",
        "arg_max = torch.argmax(tensor_C)\n",
        "\n",
        "#Find arg min\n",
        "arg_min = torch.argmin(tensor_C)\n",
        "arg_max, arg_min"
      ],
      "metadata": {
        "colab": {
          "base_uri": "https://localhost:8080/"
        },
        "id": "403ONttVx9il",
        "outputId": "8848f34f-e08d-4f1e-996d-3247aead2a78"
      },
      "execution_count": 11,
      "outputs": [
        {
          "output_type": "execute_result",
          "data": {
            "text/plain": [
              "(tensor(3, device='cuda:0'), tensor(0, device='cuda:0'))"
            ]
          },
          "metadata": {},
          "execution_count": 11
        }
      ]
    },
    {
      "cell_type": "code",
      "source": [
        "#set seed\n",
        "torch.manual_seed(7)\n",
        "\n",
        "#Create random tensor\n",
        "tensor_D = torch.rand(size=(1,1,1,10))\n",
        "\n",
        "#Remove single dimensions\n",
        "tensor_E = tensor_D.squeeze()\n",
        "\n",
        "#Print out tensors\n",
        "\n",
        "print(tensor_D, tensor_D.shape)\n",
        "print(tensor_E, tensor_E.shape)\n"
      ],
      "metadata": {
        "colab": {
          "base_uri": "https://localhost:8080/"
        },
        "id": "OzCyvdF0zP6V",
        "outputId": "6cddb636-2099-46ee-e64d-5f43b2626371"
      },
      "execution_count": 12,
      "outputs": [
        {
          "output_type": "stream",
          "name": "stdout",
          "text": [
            "tensor([[[[0.5349, 0.1988, 0.6592, 0.6569, 0.2328, 0.4251, 0.2071, 0.6297,\n",
            "           0.3653, 0.8513]]]]) torch.Size([1, 1, 1, 10])\n",
            "tensor([0.5349, 0.1988, 0.6592, 0.6569, 0.2328, 0.4251, 0.2071, 0.6297, 0.3653,\n",
            "        0.8513]) torch.Size([10])\n"
          ]
        }
      ]
    }
  ]
}